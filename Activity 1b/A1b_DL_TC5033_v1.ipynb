{
 "cells": [
  {
   "cell_type": "markdown",
   "metadata": {
    "id": "o1ht2_mVxf-u"
   },
   "source": [
    "# TC 5033\n",
    "## Deep Learning\n",
    "## Fully Connected Deep Neural Networks\n",
    "\n",
    "#### Activity 1b: Implementing a Fully Connected Network for Kaggle ASL Dataset\n",
    "\n",
    "- Objective\n",
    "\n",
    "The aim of this part of the activity is to apply your understanding of Fully Connected Networks by implementing a multilayer network for the [Kaggle ASL (American Sign Language) dataset](https://www.kaggle.com/datasets/grassknoted/asl-alphabet). While you have been provided with a complete solution for a Fully Connected Network using Numpy for the MNIST dataset, you are encouraged to try to come up with the solution.\n",
    "\n",
    "- Instructions\n",
    "\n",
    "    This activity requires submission in teams of 3 or 4 members. Submissions from smaller or larger teams will not be accepted unless prior approval has been granted (only due to exceptional circumstances). While teamwork is encouraged, each member is expected to contribute individually to the assignment. The final submission should feature the best arguments and solutions from each team member. Only one person per team needs to submit the completed work, but it is imperative that the names of all team members are listed in a Markdown cell at the very beginning of the notebook (either the first or second cell). Failure to include all team member names will result in the grade being awarded solely to the individual who submitted the assignment, with zero points given to other team members (no exceptions will be made to this rule).\n",
    "\n",
    "    Load and Preprocess Data: You are provided a starter code to load the data. Be sure to understand the code.\n",
    "\n",
    "    Review MNIST Notebook (Optional): Before diving into this activity, you have the option to revisit the MNIST example to refresh your understanding of how to build a Fully Connected Network using Numpy.\n",
    "\n",
    "    Start Fresh: Although you can refer to the MNIST solution at any point, try to implement the network for the ASL dataset on your own. This will reinforce your learning and understanding of the architecture and mathematics involved.\n",
    "\n",
    "    Implement Forward and Backward Pass: Write the code to perform the forward and backward passes, keeping in mind the specific challenges and characteristics of the ASL dataset.\n",
    "    \n",
    "     Design the Network: Create the architecture of the Fully Connected Network tailored for the ASL dataset. Choose the number of hidden layers, neurons, and hyperparameters judiciously.\n",
    "\n",
    "    Train the Model: Execute the training loop, ensuring to track performance metrics such as loss and accuracy.\n",
    "\n",
    "    Analyze and Document: Use Markdown cells to document in detail the choices you made in terms of architecture and hyperparameters, you may use figures, equations, etc to aid in your explanations. Include any metrics that help justify these choices and discuss the model's performance.  \n",
    "\n",
    "- Evaluation Criteria\n",
    "\n",
    "    - Code Readability and Comments\n",
    "    - Appropriateness of chosen architecture and hyperparameters for the ASL dataset\n",
    "    - Performance of the model on the ASL dataset (at least 70% acc)\n",
    "    - Quality of Markdown documentation\n",
    "\n",
    "- Submission\n",
    "\n",
    "Submit this Jupyter Notebook in canvas with your complete solution, ensuring your code is well-commented and includes Markdown cells that explain your design choices, results, and any challenges you encountered.\n"
   ]
  },
  {
   "cell_type": "markdown",
   "metadata": {},
   "source": [
    "## Members\n",
    "### Luis Alejandro Aguilar Díaz - A01795362\n",
    "### Pablo Yamamoto Magaña - A01022382\n",
    "### Gabriel Paredes Garza - A00797698"
   ]
  },
  {
   "cell_type": "code",
   "execution_count": 12,
   "metadata": {
    "executionInfo": {
     "elapsed": 1285,
     "status": "ok",
     "timestamp": 1727663756165,
     "user": {
      "displayName": "Abril Cota",
      "userId": "10251286202264685371"
     },
     "user_tz": 300
    },
    "id": "TxFHKhqcxf-w"
   },
   "outputs": [
    {
     "name": "stdout",
     "output_type": "stream",
     "text": [
      "The autoreload extension is already loaded. To reload it, use:\n",
      "  %reload_ext autoreload\n"
     ]
    }
   ],
   "source": [
    "import numpy as np\n",
    "import string\n",
    "import pandas as pd\n",
    "import matplotlib.pyplot as plt\n",
    "import cv2 as cv\n",
    "import os\n",
    "\n",
    "%load_ext autoreload\n",
    "%autoreload 2\n",
    "#################################\n",
    "%matplotlib inline\n"
   ]
  },
  {
   "cell_type": "code",
   "execution_count": 13,
   "metadata": {
    "executionInfo": {
     "elapsed": 7315,
     "status": "ok",
     "timestamp": 1727664262623,
     "user": {
      "displayName": "Abril Cota",
      "userId": "10251286202264685371"
     },
     "user_tz": 300
    },
    "id": "b1ck0DHSxf-x"
   },
   "outputs": [],
   "source": [
    "# DATA_PATH = '/media/pepe/DataUbuntu/Databases/asl_data/'\n",
    "DATA_PATH = './asl_data'\n",
    "# DATA_PATH = '/content/drive/MyDrive/my documents/COLAB/Advanced Machine Learning/1b/asl_data'\n",
    "train_df = pd.read_csv(os.path.join(DATA_PATH, 'sign_mnist_train.csv'))\n",
    "valid_df = pd.read_csv(os.path.join(DATA_PATH, 'sign_mnist_valid.csv'))"
   ]
  },
  {
   "cell_type": "code",
   "execution_count": 14,
   "metadata": {
    "colab": {
     "base_uri": "https://localhost:8080/",
     "height": 255
    },
    "executionInfo": {
     "elapsed": 301,
     "status": "ok",
     "timestamp": 1727664265327,
     "user": {
      "displayName": "Abril Cota",
      "userId": "10251286202264685371"
     },
     "user_tz": 300
    },
    "id": "2P8kXrSLxf-x",
    "outputId": "4f7f6fda-5b21-4042-9727-1f5a063f359d"
   },
   "outputs": [
    {
     "data": {
      "text/html": [
       "<div>\n",
       "<style scoped>\n",
       "    .dataframe tbody tr th:only-of-type {\n",
       "        vertical-align: middle;\n",
       "    }\n",
       "\n",
       "    .dataframe tbody tr th {\n",
       "        vertical-align: top;\n",
       "    }\n",
       "\n",
       "    .dataframe thead th {\n",
       "        text-align: right;\n",
       "    }\n",
       "</style>\n",
       "<table border=\"1\" class=\"dataframe\">\n",
       "  <thead>\n",
       "    <tr style=\"text-align: right;\">\n",
       "      <th></th>\n",
       "      <th>label</th>\n",
       "      <th>pixel1</th>\n",
       "      <th>pixel2</th>\n",
       "      <th>pixel3</th>\n",
       "      <th>pixel4</th>\n",
       "      <th>pixel5</th>\n",
       "      <th>pixel6</th>\n",
       "      <th>pixel7</th>\n",
       "      <th>pixel8</th>\n",
       "      <th>pixel9</th>\n",
       "      <th>...</th>\n",
       "      <th>pixel775</th>\n",
       "      <th>pixel776</th>\n",
       "      <th>pixel777</th>\n",
       "      <th>pixel778</th>\n",
       "      <th>pixel779</th>\n",
       "      <th>pixel780</th>\n",
       "      <th>pixel781</th>\n",
       "      <th>pixel782</th>\n",
       "      <th>pixel783</th>\n",
       "      <th>pixel784</th>\n",
       "    </tr>\n",
       "  </thead>\n",
       "  <tbody>\n",
       "    <tr>\n",
       "      <th>0</th>\n",
       "      <td>3</td>\n",
       "      <td>107</td>\n",
       "      <td>118</td>\n",
       "      <td>127</td>\n",
       "      <td>134</td>\n",
       "      <td>139</td>\n",
       "      <td>143</td>\n",
       "      <td>146</td>\n",
       "      <td>150</td>\n",
       "      <td>153</td>\n",
       "      <td>...</td>\n",
       "      <td>207</td>\n",
       "      <td>207</td>\n",
       "      <td>207</td>\n",
       "      <td>207</td>\n",
       "      <td>206</td>\n",
       "      <td>206</td>\n",
       "      <td>206</td>\n",
       "      <td>204</td>\n",
       "      <td>203</td>\n",
       "      <td>202</td>\n",
       "    </tr>\n",
       "    <tr>\n",
       "      <th>1</th>\n",
       "      <td>6</td>\n",
       "      <td>155</td>\n",
       "      <td>157</td>\n",
       "      <td>156</td>\n",
       "      <td>156</td>\n",
       "      <td>156</td>\n",
       "      <td>157</td>\n",
       "      <td>156</td>\n",
       "      <td>158</td>\n",
       "      <td>158</td>\n",
       "      <td>...</td>\n",
       "      <td>69</td>\n",
       "      <td>149</td>\n",
       "      <td>128</td>\n",
       "      <td>87</td>\n",
       "      <td>94</td>\n",
       "      <td>163</td>\n",
       "      <td>175</td>\n",
       "      <td>103</td>\n",
       "      <td>135</td>\n",
       "      <td>149</td>\n",
       "    </tr>\n",
       "    <tr>\n",
       "      <th>2</th>\n",
       "      <td>2</td>\n",
       "      <td>187</td>\n",
       "      <td>188</td>\n",
       "      <td>188</td>\n",
       "      <td>187</td>\n",
       "      <td>187</td>\n",
       "      <td>186</td>\n",
       "      <td>187</td>\n",
       "      <td>188</td>\n",
       "      <td>187</td>\n",
       "      <td>...</td>\n",
       "      <td>202</td>\n",
       "      <td>201</td>\n",
       "      <td>200</td>\n",
       "      <td>199</td>\n",
       "      <td>198</td>\n",
       "      <td>199</td>\n",
       "      <td>198</td>\n",
       "      <td>195</td>\n",
       "      <td>194</td>\n",
       "      <td>195</td>\n",
       "    </tr>\n",
       "    <tr>\n",
       "      <th>3</th>\n",
       "      <td>2</td>\n",
       "      <td>211</td>\n",
       "      <td>211</td>\n",
       "      <td>212</td>\n",
       "      <td>212</td>\n",
       "      <td>211</td>\n",
       "      <td>210</td>\n",
       "      <td>211</td>\n",
       "      <td>210</td>\n",
       "      <td>210</td>\n",
       "      <td>...</td>\n",
       "      <td>235</td>\n",
       "      <td>234</td>\n",
       "      <td>233</td>\n",
       "      <td>231</td>\n",
       "      <td>230</td>\n",
       "      <td>226</td>\n",
       "      <td>225</td>\n",
       "      <td>222</td>\n",
       "      <td>229</td>\n",
       "      <td>163</td>\n",
       "    </tr>\n",
       "    <tr>\n",
       "      <th>4</th>\n",
       "      <td>12</td>\n",
       "      <td>164</td>\n",
       "      <td>167</td>\n",
       "      <td>170</td>\n",
       "      <td>172</td>\n",
       "      <td>176</td>\n",
       "      <td>179</td>\n",
       "      <td>180</td>\n",
       "      <td>184</td>\n",
       "      <td>185</td>\n",
       "      <td>...</td>\n",
       "      <td>92</td>\n",
       "      <td>105</td>\n",
       "      <td>105</td>\n",
       "      <td>108</td>\n",
       "      <td>133</td>\n",
       "      <td>163</td>\n",
       "      <td>157</td>\n",
       "      <td>163</td>\n",
       "      <td>164</td>\n",
       "      <td>179</td>\n",
       "    </tr>\n",
       "  </tbody>\n",
       "</table>\n",
       "<p>5 rows × 785 columns</p>\n",
       "</div>"
      ],
      "text/plain": [
       "   label  pixel1  pixel2  pixel3  pixel4  pixel5  pixel6  pixel7  pixel8  \\\n",
       "0      3     107     118     127     134     139     143     146     150   \n",
       "1      6     155     157     156     156     156     157     156     158   \n",
       "2      2     187     188     188     187     187     186     187     188   \n",
       "3      2     211     211     212     212     211     210     211     210   \n",
       "4     12     164     167     170     172     176     179     180     184   \n",
       "\n",
       "   pixel9  ...  pixel775  pixel776  pixel777  pixel778  pixel779  pixel780  \\\n",
       "0     153  ...       207       207       207       207       206       206   \n",
       "1     158  ...        69       149       128        87        94       163   \n",
       "2     187  ...       202       201       200       199       198       199   \n",
       "3     210  ...       235       234       233       231       230       226   \n",
       "4     185  ...        92       105       105       108       133       163   \n",
       "\n",
       "   pixel781  pixel782  pixel783  pixel784  \n",
       "0       206       204       203       202  \n",
       "1       175       103       135       149  \n",
       "2       198       195       194       195  \n",
       "3       225       222       229       163  \n",
       "4       157       163       164       179  \n",
       "\n",
       "[5 rows x 785 columns]"
      ]
     },
     "execution_count": 14,
     "metadata": {},
     "output_type": "execute_result"
    }
   ],
   "source": [
    "train_df.head()"
   ]
  },
  {
   "cell_type": "markdown",
   "metadata": {
    "id": "JeJUjhYfxf-x"
   },
   "source": [
    "### Importar Images"
   ]
  },
  {
   "cell_type": "code",
   "execution_count": 15,
   "metadata": {
    "executionInfo": {
     "elapsed": 369,
     "status": "ok",
     "timestamp": 1727664286115,
     "user": {
      "displayName": "Abril Cota",
      "userId": "10251286202264685371"
     },
     "user_tz": 300
    },
    "id": "O0PKoG9Vxf-x"
   },
   "outputs": [],
   "source": [
    "y_train = np.array(train_df['label'])\n",
    "y_val = np.array(valid_df['label'])\n",
    "del train_df['label']\n",
    "del valid_df['label']\n",
    "x_train = train_df.values.astype(np.float32)\n",
    "x_val = valid_df.values.astype(np.float32)"
   ]
  },
  {
   "cell_type": "markdown",
   "metadata": {
    "id": "9sT9MU441n1G"
   },
   "source": [
    "# **split_val_test**\n",
    "**split_val_test** is a function that accepts 4 parameters:\n",
    "\n",
    "\n",
    "\n",
    "*   x - A dataset\n",
    "*   y - Etiquettes corresponding to dataset.\n",
    "*   pct - Determines what is the % of split data between validation and testing. (By default 0.5 -50%)\n",
    "*   shuffle - Determines if the dataset (x) and etiquettes (y) are going to be randomly shuffled before being splitted.\n",
    "\n",
    "\n",
    "**Explanation**\n",
    "* rng object is created to be used to shuffle randomly indexes of our data if shuffle variable happens to be true.\n",
    "\n",
    "* idx array is created to store indexes corresponding to both x and y.\n",
    "\n",
    "* A validation of shuffle is created to verify if shuffle is true or false, if true, we shuffle idx array, if not, we pass.\n",
    "\n",
    "* id_pct is created with the purpose of storing the quantity of elements to be stored in val and test.\n",
    "\n",
    "* idx1 and idx2 are both variables that store indexes to be used to select elements for validation and testing respectively.\n",
    "\n",
    "* Finally, validation and testing data is returned for both x and y sets.\n"
   ]
  },
  {
   "cell_type": "code",
   "execution_count": 16,
   "metadata": {
    "code_folding": [],
    "executionInfo": {
     "elapsed": 358,
     "status": "ok",
     "timestamp": 1727664435234,
     "user": {
      "displayName": "Abril Cota",
      "userId": "10251286202264685371"
     },
     "user_tz": 300
    },
    "id": "WqFKORz2xf-y"
   },
   "outputs": [],
   "source": [
    "def split_val_test(x, y, pct=0.5, shuffle=True):\n",
    "    rng = np.random.default_rng()\n",
    "    idx = np.arange(x.shape[0])\n",
    "    if shuffle:\n",
    "        rng.shuffle(idx)\n",
    "    id_pct = int(x.shape[0] * pct)\n",
    "    idx1 = np.sort(idx[:id_pct])\n",
    "    idx2 = np.sort(idx[id_pct:])\n",
    "    return x[idx1, ...], y[idx1, ...], x[idx2, ...], y[idx2, ...]"
   ]
  },
  {
   "cell_type": "code",
   "execution_count": 17,
   "metadata": {
    "executionInfo": {
     "elapsed": 201,
     "status": "ok",
     "timestamp": 1727665864436,
     "user": {
      "displayName": "Abril Cota",
      "userId": "10251286202264685371"
     },
     "user_tz": 300
    },
    "id": "Vyibq1Tgxf-y"
   },
   "outputs": [],
   "source": [
    "x_val, y_val, x_test, y_test = split_val_test(x_val, y_val)"
   ]
  },
  {
   "cell_type": "code",
   "execution_count": 18,
   "metadata": {
    "colab": {
     "base_uri": "https://localhost:8080/"
    },
    "executionInfo": {
     "elapsed": 271,
     "status": "ok",
     "timestamp": 1727665921993,
     "user": {
      "displayName": "Abril Cota",
      "userId": "10251286202264685371"
     },
     "user_tz": 300
    },
    "id": "dFpklwg9xf-y",
    "outputId": "2a599c71-9efd-490b-e80e-9fc475057e74"
   },
   "outputs": [
    {
     "name": "stdout",
     "output_type": "stream",
     "text": [
      "24\n"
     ]
    }
   ],
   "source": [
    "### The following\n",
    "\n",
    "alphabet=list(string.ascii_lowercase)\n",
    "alphabet.remove('j')\n",
    "alphabet.remove('z')\n",
    "print(len(alphabet))"
   ]
  },
  {
   "cell_type": "markdown",
   "metadata": {
    "id": "wLCfae44xf-y"
   },
   "source": [
    "### Normalise"
   ]
  },
  {
   "cell_type": "markdown",
   "metadata": {
    "id": "_v04IhcF7GiI"
   },
   "source": [
    "# **normalise**\n",
    "\n",
    "**normalise** is a function that takes three attributes:\n",
    "\n",
    "* mean - Mean value.\n",
    "\n",
    "* std - Standard deviation value.\n",
    "\n",
    "* Data - Data set to be normalised.\n",
    "\n",
    "**Explanation**\n",
    "\n",
    "Basically normalise funciton takes the result of data minus the mean and then divides it with the standard deviation."
   ]
  },
  {
   "cell_type": "code",
   "execution_count": 19,
   "metadata": {
    "executionInfo": {
     "elapsed": 273,
     "status": "ok",
     "timestamp": 1727666390792,
     "user": {
      "displayName": "Abril Cota",
      "userId": "10251286202264685371"
     },
     "user_tz": 300
    },
    "id": "i52Y768Oxf-y"
   },
   "outputs": [],
   "source": [
    "def normalise(mean, std, data):\n",
    "    return (data - mean) / std"
   ]
  },
  {
   "cell_type": "markdown",
   "metadata": {
    "id": "jry4bTyV8cPR"
   },
   "source": [
    "We determine both mean and standard deviation for x train dataset.\n",
    "\n",
    "Then we apply normalise function for train, validation and test datasets."
   ]
  },
  {
   "cell_type": "code",
   "execution_count": 20,
   "metadata": {
    "executionInfo": {
     "elapsed": 469,
     "status": "ok",
     "timestamp": 1727666588310,
     "user": {
      "displayName": "Abril Cota",
      "userId": "10251286202264685371"
     },
     "user_tz": 300
    },
    "id": "6YioYA6vxf-y"
   },
   "outputs": [],
   "source": [
    "x_mean = x_train.mean()\n",
    "x_std = x_train.std()\n",
    "\n",
    "x_train = normalise(x_mean, x_std, x_train)\n",
    "x_val = normalise(x_mean, x_std, x_val)\n",
    "x_test = normalise(x_mean, x_std, x_test)"
   ]
  },
  {
   "cell_type": "markdown",
   "metadata": {
    "id": "8bgvtp2Mxf-y"
   },
   "source": [
    "### Graficar muestras"
   ]
  },
  {
   "cell_type": "markdown",
   "metadata": {
    "id": "vcF4JWSh9WZc"
   },
   "source": [
    "# **plot_number**\n",
    "\n",
    "plot_number is a function that takes only one attribute:\n",
    "\n",
    "* image -  Is a three dimension array that is meant to represent an image to be processed and plotted.\n",
    "\n",
    "\n",
    "**Explanation**\n",
    "\n",
    "* We create a space of 5 x 5 where will be plotting our image.\n",
    "\n",
    "* With the use of .imshow we display the image.\n",
    "\n",
    "* We omit any label that would be displayed accompanying our image.\n",
    "\n",
    "* Finally we render our image."
   ]
  },
  {
   "cell_type": "code",
   "execution_count": 21,
   "metadata": {
    "executionInfo": {
     "elapsed": 236,
     "status": "ok",
     "timestamp": 1727666663870,
     "user": {
      "displayName": "Abril Cota",
      "userId": "10251286202264685371"
     },
     "user_tz": 300
    },
    "id": "sSZ8EBbuxf-y"
   },
   "outputs": [],
   "source": [
    "def plot_number(image):\n",
    "    plt.figure(figsize=(5,5))\n",
    "    plt.imshow(image.squeeze(), cmap=plt.get_cmap('gray'))\n",
    "    plt.axis('off')\n",
    "    plt.show()"
   ]
  },
  {
   "cell_type": "markdown",
   "metadata": {
    "id": "RsrvQ2AB_u4Q"
   },
   "source": [
    "We detemine a random index to be used to select an image in our dataset.\n",
    "\n",
    "We print what is the etiquette of our image.\n",
    "\n",
    "Finally, with plot_number we plot the selected image."
   ]
  },
  {
   "cell_type": "code",
   "execution_count": 22,
   "metadata": {
    "colab": {
     "base_uri": "https://localhost:8080/",
     "height": 439
    },
    "executionInfo": {
     "elapsed": 489,
     "status": "ok",
     "timestamp": 1727667234792,
     "user": {
      "displayName": "Abril Cota",
      "userId": "10251286202264685371"
     },
     "user_tz": 300
    },
    "id": "B8Gb1cgDxf-y",
    "outputId": "23a5a54f-394e-4944-917f-60d2b9dd6ae9"
   },
   "outputs": [
    {
     "name": "stdout",
     "output_type": "stream",
     "text": [
      "La imágen es una : c\n"
     ]
    },
    {
     "data": {
      "image/png": "[encoded data removed]",
      "text/plain": [
       "<Figure size 500x500 with 1 Axes>"
      ]
     },
     "metadata": {},
     "output_type": "display_data"
    }
   ],
   "source": [
    "idx = np.random.randint(y_test.shape[0])\n",
    "print(f'La imágen es una : {alphabet[y_test[idx]]}')\n",
    "plot_number(x_test[idx].reshape(1, 28, 28))"
   ]
  },
  {
   "cell_type": "markdown",
   "metadata": {
    "id": "ei45ZBomxf-z"
   },
   "source": [
    "### Ecuaciones para nuestro modelo\n",
    "\n",
    "\n",
    "$$z^1 = W^1 X + b^1$$\n",
    "\n",
    "$$a^1 = ReLU(z^1) $$\n",
    "\n",
    "$$z^2 = W^2 a^1 + b^2$$\n",
    "\n",
    "$$\\hat{y} = \\frac{e^{z^{2_k}}}{\\sum_j{e^{z_j}}}$$\n",
    "\n",
    "\n",
    "$$ \\mathcal{L}(\\hat{y}^{i}, y^{i}) =  - y^{i}  \\ln(\\hat{y}^{i}) = -\\ln(\\hat{y}^i)$$\n",
    "\n",
    "\n",
    "$$ \\mathcal{J}(w, b) =  \\frac{1}{num\\_samples} \\sum_{i=1}^{num\\_samples}-\\ln(\\hat{y}^{i})$$"
   ]
  },
  {
   "cell_type": "markdown",
   "metadata": {
    "id": "pe_YHFDdxf-z"
   },
   "source": [
    "### Funciones adicionales"
   ]
  },
  {
   "cell_type": "markdown",
   "metadata": {
    "id": "43Z0iK6pxf-z"
   },
   "source": [
    "#### Mini batches"
   ]
  },
  {
   "cell_type": "markdown",
   "metadata": {
    "id": "W3lHhVjxA1Ox"
   },
   "source": [
    "# **create_mini_batches**\n",
    "\n",
    "**create_mini_batches** is a function that takes 4 attributes:\n",
    "\n",
    "* size - Determines the size for each mini batch.\n",
    "\n",
    "* x - Takes our dataset.\n",
    "\n",
    "* y - Takes all etiquettes corresponding to our dataset.\n",
    "\n",
    "* shuffle - Is a variable that takes a boolean to determine if all indexes of x and y are going to be shuffled.\n",
    "\n",
    "**Explanation**\n",
    "\n",
    "* First of all we validate if x and y are the same shape, that means that for every record in x, must be a record corresponding it in y.\n",
    "\n",
    "* After that, we store the length of x in a variable.\n",
    "\n",
    "* If shuffle attibute happens to be True, we create an array (idxs) with all the indexes of x.\n",
    "\n",
    "* Then, we shuffle all indexes in idxs.\n",
    "\n",
    "* And then, we store in a variable x and y all reordened records of attributes x and y.\n",
    "\n",
    "* Finally we return all minibatches generated.\n",
    "\n"
   ]
  },
  {
   "cell_type": "code",
   "execution_count": 23,
   "metadata": {
    "executionInfo": {
     "elapsed": 188,
     "status": "ok",
     "timestamp": 1727667419489,
     "user": {
      "displayName": "Abril Cota",
      "userId": "10251286202264685371"
     },
     "user_tz": 300
    },
    "id": "IB-33tDaxf-z"
   },
   "outputs": [],
   "source": [
    "def create_mini_batches(size, x, y, shuffle=True):\n",
    "    assert x.shape[0] == y.shape[0], 'Error en cantidad de muestras'\n",
    "    total_data = x.shape[0]\n",
    "    if shuffle:\n",
    "        idxs = np.arange(total_data)\n",
    "        np.random.shuffle(idxs)\n",
    "        x = x[idxs]\n",
    "        y = y[idxs]\n",
    "    return ((x[i:i+size], y[i:i+size]) for i in range(0, total_data, size))"
   ]
  },
  {
   "cell_type": "markdown",
   "metadata": {
    "id": "o0Rzh-B7EpSn"
   },
   "source": [
    "We look into the shape of x_train"
   ]
  },
  {
   "cell_type": "code",
   "execution_count": 24,
   "metadata": {
    "colab": {
     "base_uri": "https://localhost:8080/"
    },
    "executionInfo": {
     "elapsed": 293,
     "status": "ok",
     "timestamp": 1727668581179,
     "user": {
      "displayName": "Abril Cota",
      "userId": "10251286202264685371"
     },
     "user_tz": 300
    },
    "id": "_hDoQbdjxf-z",
    "outputId": "b63033b0-276b-4a54-a764-34ad20f0952f"
   },
   "outputs": [
    {
     "data": {
      "text/plain": [
       "(27455, 784)"
      ]
     },
     "execution_count": 24,
     "metadata": {},
     "output_type": "execute_result"
    }
   ],
   "source": [
    "x_train.shape"
   ]
  },
  {
   "cell_type": "markdown",
   "metadata": {
    "id": "GRt4TXJ8xf-z"
   },
   "source": [
    "## Nuestra clase Linear, ReLU y Sequential"
   ]
  },
  {
   "cell_type": "markdown",
   "metadata": {
    "id": "pP6vwziYxf-z"
   },
   "source": [
    "###  Clase Linear"
   ]
  },
  {
   "cell_type": "markdown",
   "metadata": {
    "id": "fJk-4TWYE4lu"
   },
   "source": [
    "# **np_tensor**\n",
    "\n",
    "np_tensor basically is created to only inherit from Numpy's np.ndarray."
   ]
  },
  {
   "cell_type": "code",
   "execution_count": 25,
   "metadata": {
    "executionInfo": {
     "elapsed": 225,
     "status": "ok",
     "timestamp": 1727668796241,
     "user": {
      "displayName": "Abril Cota",
      "userId": "10251286202264685371"
     },
     "user_tz": 300
    },
    "id": "3giTrxplxf-z"
   },
   "outputs": [],
   "source": [
    "class np_tensor(np.ndarray): pass"
   ]
  },
  {
   "cell_type": "markdown",
   "metadata": {
    "id": "H7jHG9I6FeT1"
   },
   "source": [
    "# **Linear**\n",
    "\n",
    "Function **__ init__** , this function what it does is to initialize our class, it takes two attributes:\n",
    "\n",
    "* input_size - That is the number of input features.\n",
    "* output_size - That is the number of output features.\n",
    "\n",
    "Here we Determine values for both W (Weights) and b (Bias) for our Layer.\n",
    "\n",
    "Function **__ call__** is used to treat our class like a function, it allows to initially take one argument (X) and calculate the output of our layer.\n",
    "\n",
    "Function **backward**, takes two arguments:\n",
    "* X - Input.\n",
    "* Z - Output from the forward pass.\n",
    "\n",
    "Here we focus on gradient calculation for Weight and bias in our layer"
   ]
  },
  {
   "cell_type": "code",
   "execution_count": 26,
   "metadata": {
    "executionInfo": {
     "elapsed": 190,
     "status": "ok",
     "timestamp": 1727673756727,
     "user": {
      "displayName": "Abril Cota",
      "userId": "10251286202264685371"
     },
     "user_tz": 300
    },
    "id": "19Cs8UrOxf-z"
   },
   "outputs": [],
   "source": [
    "class Linear():\n",
    "    def __init__(self, input_size, output_size):\n",
    "        self.W = (np.random.randn(output_size, input_size) / np.sqrt(input_size/2)).view(np_tensor)\n",
    "        self.b = (np.zeros((output_size, 1))).view(np_tensor)\n",
    "    def __call__(self, X):\n",
    "        return self.W @ X + self.b\n",
    "    def backward(self, X, Z):\n",
    "        X.grad = self.W.T @ Z.grad\n",
    "        self.W.grad = Z.grad @ X.T\n",
    "        self.b.grad = np.sum(Z.grad, axis = 1, keepdims=True)"
   ]
  },
  {
   "cell_type": "markdown",
   "metadata": {
    "id": "WGVWMu55xf-z"
   },
   "source": [
    "### Clase ReLU"
   ]
  },
  {
   "cell_type": "markdown",
   "metadata": {
    "id": "sTNtCXNNWFmH"
   },
   "source": [
    "# **ReLu**\n",
    "\n",
    "Funciton **__ call__** takes Z (output from previous layer) as an attribute and returns a list with the maximum of 0 and its corresponding number in z.\n",
    "\n",
    "Function **backward**, takes Z and A (Output from the forward pass and gradients for the next layer). Here we determine Z gradient to be the same as the gradient of A. And for all gradients that are equal or less than zero to be just zero."
   ]
  },
  {
   "cell_type": "code",
   "execution_count": 27,
   "metadata": {
    "executionInfo": {
     "elapsed": 187,
     "status": "ok",
     "timestamp": 1727673759885,
     "user": {
      "displayName": "Abril Cota",
      "userId": "10251286202264685371"
     },
     "user_tz": 300
    },
    "id": "kT5esSzKxf-z"
   },
   "outputs": [],
   "source": [
    "class ReLU():\n",
    "    def __call__(self, Z):\n",
    "        return np.maximum(0, Z)\n",
    "    def backward(self, Z, A):\n",
    "        Z.grad = A.grad.copy()\n",
    "        Z.grad[Z <= 0] = 0"
   ]
  },
  {
   "cell_type": "markdown",
   "metadata": {
    "id": "ouS6gJPyxf-z"
   },
   "source": [
    "### Clase Sequential"
   ]
  },
  {
   "cell_type": "markdown",
   "metadata": {
    "id": "eVwWSgnEYcdu"
   },
   "source": [
    "# **Sequential**\n",
    "\n",
    "Class Sequential has a total of 4 functions:\n",
    "\n",
    "Function **__ init__**, takes just one argument:\n",
    "* layers - That refer to the total of layers to be used in our neuronal network.\n",
    "\n",
    "Here we initialize local variables, layers, x and outputs with its default values.\n",
    "\n",
    "Function **__ call__** like we viewied in latest functions, __ call__ function is mostly used to treat our class like a function firstly, it takes just one argument:\n",
    "\n",
    "X - The input data for the network.\n",
    "\n",
    "Here we initialize a local variable x and set the output for layer 0 to be equal as x.\n",
    "\n",
    "Then we iterate trough all layers taking all the corresponding outputs and storing it in the outputs array, and after that we return the final output.\n",
    "\n",
    "Function **backward** here we generate all the gradients needed for backpropagation for our network..\n",
    "\n",
    "Function **update** takes only one argument an it is learning_rate that is going to be used for update weights and biases trough all layers.\n",
    "\n",
    "Function **predict** takes only one argument, X. That is the input to be used to bake the prediciton, here we call the forward function and then we take the index of the maximum value in the output.\n"
   ]
  },
  {
   "cell_type": "code",
   "execution_count": 28,
   "metadata": {
    "id": "6X04QVOyxf-z"
   },
   "outputs": [],
   "source": [
    "class Sequential():\n",
    "    def __init__(self, layers):\n",
    "        self.layers = layers\n",
    "        self.x = None\n",
    "        self.outputs = {}\n",
    "    def __call__(self, X):\n",
    "        self.x = X\n",
    "        self.outputs['l0'] = self.x\n",
    "        for i, layer in enumerate(self.layers, 1):\n",
    "            self.x = layer(self.x)\n",
    "            self.outputs['l'+str(i)]=self.x\n",
    "        return self.x\n",
    "    def backward(self):\n",
    "        for i in reversed(range(len(self.layers))):\n",
    "            self.layers[i].backward(self.outputs['l'+str(i)], self.outputs['l'+str(i+1)])\n",
    "    def update(self, learning_rate = 1e-3):\n",
    "        for layer in self.layers:\n",
    "            if isinstance(layer, ReLU): continue\n",
    "            layer.W = layer.W - learning_rate * layer.W.grad\n",
    "            layer.b = layer.b - learning_rate * layer.b.grad\n",
    "    def predict(self, X):\n",
    "        return np.argmax(self.__call__(X))"
   ]
  },
  {
   "cell_type": "markdown",
   "metadata": {
    "id": "QeMdIkg6xf-0"
   },
   "source": [
    "### Cost Function\n",
    "\n",
    "This function allows us to turn the linear results of the model an turn them into probabilities, they all sum 1 and each result tells you the probability that they belong to each class. It also calculates the loss between the predicted probabilities and the real labels and calculates the gradient that is required in retro propagation. \n",
    "\n",
    "We get the number of samples from the minibatch with x.shape[1], then we apply the exponential to every element in x which is required to calc the softmax. \n",
    "\n",
    "After that we will get the cost by first, obtaining the probabilities of the correct classes for every sample with y_hat = probs[y.squeeze(), np.arange(batch_size)], then we get the individual loss, add them up and divide them by the number of samples. \n",
    "\n",
    "Finally we substract 1 from the predicted probabilities of the true classes, so probs have y_hat(i) - y(i). y_hat is the predicted probability and y is the label, it has 1 for true class and 0 for the rest of them. "
   ]
  },
  {
   "cell_type": "code",
   "execution_count": 29,
   "metadata": {
    "id": "QI5qfCZNxf-0"
   },
   "outputs": [],
   "source": [
    "def softmaxXEntropy(x, y):\n",
    "    batch_size = x.shape[1]\n",
    "    exp_scores = np.exp(x)\n",
    "    probs = exp_scores / exp_scores.sum(axis = 0)\n",
    "    preds = probs.copy()\n",
    "    # Costo\n",
    "    y_hat = probs[y.squeeze(), np.arange(batch_size)]\n",
    "    cost = np.sum(-np.log(y_hat)) / batch_size\n",
    "    # Calcular gradientes\n",
    "    probs[y.squeeze(), np.arange(batch_size)] -= 1 #dl/dx\n",
    "    x.grad = probs.copy()\n",
    "\n",
    "    return preds, cost"
   ]
  },
  {
   "cell_type": "markdown",
   "metadata": {
    "id": "77iwK8TDxf-0"
   },
   "source": [
    "### Loop de entrenamiento"
   ]
  },
  {
   "cell_type": "markdown",
   "metadata": {},
   "source": [
    "During this function, we will train our model for a selected number of times or epochs. For every epoch, we will create the x number of mini batches, we send the mini batch in the forward pass to our neural network, calculate the cost, do the backward propagation and update the Weights and Biases for every layer with. \n",
    "\n",
    "In this way, we are memory efficient, by sending random subsets of our data to our Network and training it multiple times, this allows us our model to generalize well and prevent overfitting. "
   ]
  },
  {
   "cell_type": "code",
   "execution_count": 30,
   "metadata": {
    "id": "nyDEU5JExf-0"
   },
   "outputs": [],
   "source": [
    "def train(model, epochs, mb_size=128, learning_rate = 1e-3):\n",
    "    for epoch in range(epochs):\n",
    "        for i, (x, y) in enumerate(create_mini_batches(mb_size, x_train, y_train)):\n",
    "            scores = model(x.T.view(np_tensor))\n",
    "            _, cost = softmaxXEntropy(scores, y)\n",
    "            model.backward()\n",
    "            model.update(learning_rate)\n",
    "        print(f'costo: {cost}, accuracy: {accuracy(x_val, y_val, mb_size)}')"
   ]
  },
  {
   "cell_type": "markdown",
   "metadata": {},
   "source": [
    "After every epoch we will see how accurate are model is with the validation data. \n",
    "\n",
    "accuracy = correct_number_of_predicted_samples / total_number_of_evaluated_samples\n",
    "\n",
    "Once again we will do this with mini bathces, and for every batch we will do forward pass with the data, then we will compare the predictions of the classes with the true labels, this comparison will output an array of booleans, where we will add all True values to obtain the correct number of predictions. Then we just need to divide it by the total number of samples and return it. "
   ]
  },
  {
   "cell_type": "code",
   "execution_count": 31,
   "metadata": {
    "id": "TJ9jfcgAxf-0"
   },
   "outputs": [],
   "source": [
    "def accuracy(x, y, mb_size):\n",
    "    correct = 0\n",
    "    total = 0\n",
    "    for i, (x, y) in enumerate(create_mini_batches(mb_size, x, y)):\n",
    "        pred = model(x.T.view(np_tensor))\n",
    "        correct += np.sum(np.argmax(pred, axis=0) == y.squeeze())\n",
    "        total += pred.shape[1]\n",
    "    return correct/total"
   ]
  },
  {
   "cell_type": "markdown",
   "metadata": {
    "id": "cAgGAGonxf-0"
   },
   "source": [
    "### Create your model and train it"
   ]
  },
  {
   "cell_type": "markdown",
   "metadata": {
    "id": "HSuw62qTcI5F"
   },
   "source": [
    "Given the Sequential function previously created, we determine that our neuronal network will have 4 Linear layers and 3 Activation Layers.\n",
    "\n",
    "We determinated that the best size for our mini batches is 128.\n",
    "\n",
    "And the best learning rate is 1e-3.\n",
    "\n",
    "And Finally the total of epochs to be used for best training is 20."
   ]
  },
  {
   "cell_type": "code",
   "execution_count": 58,
   "metadata": {
    "id": "AhJK1MH3xf-0"
   },
   "outputs": [],
   "source": [
    "model = Sequential([Linear(784, 500), ReLU(), Linear(500, 350), ReLU(), Linear(350, 200), ReLU(), Linear(200, 24)])\n",
    "mb_size = 128\n",
    "learning_rate = 1e-3\n",
    "epochs = 20\n"
   ]
  },
  {
   "cell_type": "markdown",
   "metadata": {
    "id": "fFwb3fjhcsvS"
   },
   "source": [
    "We call train function and we start to train!, finally obtaining an accuracy of 79.39%"
   ]
  },
  {
   "cell_type": "code",
   "execution_count": 59,
   "metadata": {
    "id": "ctEFfNgexf-0",
    "outputId": "b656b6c3-4c56-4636-9b45-9de86a1e9f58"
   },
   "outputs": [
    {
     "name": "stdout",
     "output_type": "stream",
     "text": [
      "costo: 0.01707352795177713, accuracy: 0.798382598996096\n",
      "costo: 0.00807742027075458, accuracy: 0.8039598438371445\n",
      "costo: 0.004966172385259166, accuracy: 0.7961517010596765\n",
      "costo: 0.0025509881792346125, accuracy: 0.7950362520914668\n",
      "costo: 0.0021679813166237964, accuracy: 0.7967094255437813\n",
      "costo: 0.0015776361443619689, accuracy: 0.7955939765755716\n",
      "costo: 0.0014711635607748696, accuracy: 0.7936419408812047\n",
      "costo: 0.0008657783708017775, accuracy: 0.7961517010596765\n",
      "costo: 0.0010519780588905078, accuracy: 0.7941996653653095\n",
      "costo: 0.0006306651865044747, accuracy: 0.7950362520914668\n",
      "costo: 0.0005885353530348676, accuracy: 0.7961517010596765\n"
     ]
    }
   ],
   "source": [
    "train(model, epochs, mb_size, learning_rate)"
   ]
  },
  {
   "cell_type": "markdown",
   "metadata": {
    "id": "JUxHky-Xxf-0"
   },
   "source": [
    "### Test your model on Random data from your test set"
   ]
  },
  {
   "cell_type": "code",
   "execution_count": 51,
   "metadata": {
    "id": "krU2kSBKxf-0",
    "outputId": "327b9a90-2370-49c6-f2a0-da8cacfc7160"
   },
   "outputs": [
    {
     "data": {
      "image/png": "[encoded data removed]",
      "text/plain": [
       "<Figure size 500x500 with 1 Axes>"
      ]
     },
     "metadata": {},
     "output_type": "display_data"
    },
    {
     "name": "stdout",
     "output_type": "stream",
     "text": [
      "el valor predicho es: w el valor real es:v\n"
     ]
    }
   ],
   "source": [
    "idx = np.random.randint(len(y_test))\n",
    "plot_number(x_test[idx].reshape(28,28))\n",
    "pred = model.predict(x_test[idx].reshape(-1, 1))\n",
    "print(f'el valor predicho es: {alphabet[pred]} el valor real es:{alphabet[y_test[idx]]}')"
   ]
  }
 ],
 "metadata": {
  "colab": {
   "provenance": []
  },
  "kernelspec": {
   "display_name": "Python 3 (ipykernel)",
   "language": "python",
   "name": "python3"
  },
  "language_info": {
   "codemirror_mode": {
    "name": "ipython",
    "version": 3
   },
   "file_extension": ".py",
   "mimetype": "text/x-python",
   "name": "python",
   "nbconvert_exporter": "python",
   "pygments_lexer": "ipython3",
   "version": "3.10.12"
  },
  "toc": {
   "base_numbering": 1,
   "nav_menu": {},
   "number_sections": true,
   "sideBar": true,
   "skip_h1_title": false,
   "title_cell": "Table of Contents",
   "title_sidebar": "Contents",
   "toc_cell": false,
   "toc_position": {},
   "toc_section_display": true,
   "toc_window_display": false
  },
  "varInspector": {
   "cols": {
    "lenName": 16,
    "lenType": 16,
    "lenVar": 40
   },
   "kernels_config": {
    "python": {
     "delete_cmd_postfix": "",
     "delete_cmd_prefix": "del ",
     "library": "var_list.py",
     "varRefreshCmd": "print(var_dic_list())"
    },
    "r": {
     "delete_cmd_postfix": ") ",
     "delete_cmd_prefix": "rm(",
     "library": "var_list.r",
     "varRefreshCmd": "cat(var_dic_list()) "
    }
   },
   "types_to_exclude": [
    "module",
    "function",
    "builtin_function_or_method",
    "instance",
    "_Feature"
   ],
   "window_display": false
  }
 },
 "nbformat": 4,
 "nbformat_minor": 4
}
